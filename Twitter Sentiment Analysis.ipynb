{
  "cells": [
    {
      "cell_type": "code",
      "source": [
        "!pip install -q --upgrade keras-nlp tensorflow"
      ],
      "metadata": {
        "id": "kffFnymo42uq"
      },
      "id": "kffFnymo42uq",
      "execution_count": null,
      "outputs": []
    },
    {
      "cell_type": "code",
      "execution_count": null,
      "id": "a5205055-ac32-407f-97a0-a8a18e12371e",
      "metadata": {
        "id": "a5205055-ac32-407f-97a0-a8a18e12371e"
      },
      "outputs": [],
      "source": [
        "import numpy as np\n",
        "import pandas as pd\n",
        "import re\n",
        "import nltk\n",
        "from nltk.corpus import stopwords\n",
        "from nltk.stem import WordNetLemmatizer\n",
        "import tensorflow as tf\n",
        "from tensorflow import keras\n",
        "from sklearn.model_selection import train_test_split\n",
        "import keras_nlp\n",
        "import matplotlib.pyplot as plt\n",
        "import time\n",
        "\n",
        "rseed = 42\n",
        "\n",
        "tf.random.set_seed(rseed)\n",
        "np.random.seed(rseed)\n",
        "\n",
        "#from sklearn.feature_extraction.text import TfidfVectorizer"
      ]
    },
    {
      "cell_type": "code",
      "execution_count": null,
      "id": "25fea397-4088-4242-8a83-c8f56aa3848e",
      "metadata": {
        "id": "25fea397-4088-4242-8a83-c8f56aa3848e",
        "outputId": "d3424ac4-296f-4f2d-f55c-44e6a67a94a6",
        "colab": {
          "base_uri": "https://localhost:8080/",
          "height": 423
        }
      },
      "outputs": [
        {
          "output_type": "execute_result",
          "data": {
            "text/plain": [
              "       TweetID                 Topic Sentiment  \\\n",
              "8581      9472             Overwatch   Neutral   \n",
              "71534    11054  TomClancysGhostRecon  Positive   \n",
              "67252     7116       johnson&johnson   Neutral   \n",
              "41061     1446           Battlefield  Positive   \n",
              "16591     9643     PlayStation5(PS5)  Positive   \n",
              "...        ...                   ...       ...   \n",
              "37194     8379             Microsoft   Neutral   \n",
              "6265       278                Amazon   Neutral   \n",
              "54886     2225            CallOfDuty  Negative   \n",
              "860       2552           Borderlands  Negative   \n",
              "15795     3102                 Dota2   Neutral   \n",
              "\n",
              "                                                 Message  \n",
              "8581   My goodness @ AmbarKOrtiz was SO mad at me for...  \n",
              "71534  I must say that for every moment of fun I have...  \n",
              "67252  Business AwesomeCapital : Johnson & Meyer John...  \n",
              "41061  Here it was! I found the Perfect Flamethrower ...  \n",
              "16591  It is not the first time that the EU Commissio...  \n",
              "...                                                  ...  \n",
              "37194  Microsoft opens up coronavirus threat data to ...  \n",
              "6265   A fast-paced, riveting and unique read! Grab a...  \n",
              "54886  Nah fr find this shit a big warzone if you bee...  \n",
              "860    borderlands 3 sucks why are yall giving money ...  \n",
              "15795  Trump just banned EU travel for a month. Is ma...  \n",
              "\n",
              "[59745 rows x 4 columns]"
            ],
            "text/html": [
              "\n",
              "  <div id=\"df-db83d3b5-29b8-49bd-83c5-1cb77eee2a56\">\n",
              "    <div class=\"colab-df-container\">\n",
              "      <div>\n",
              "<style scoped>\n",
              "    .dataframe tbody tr th:only-of-type {\n",
              "        vertical-align: middle;\n",
              "    }\n",
              "\n",
              "    .dataframe tbody tr th {\n",
              "        vertical-align: top;\n",
              "    }\n",
              "\n",
              "    .dataframe thead th {\n",
              "        text-align: right;\n",
              "    }\n",
              "</style>\n",
              "<table border=\"1\" class=\"dataframe\">\n",
              "  <thead>\n",
              "    <tr style=\"text-align: right;\">\n",
              "      <th></th>\n",
              "      <th>TweetID</th>\n",
              "      <th>Topic</th>\n",
              "      <th>Sentiment</th>\n",
              "      <th>Message</th>\n",
              "    </tr>\n",
              "  </thead>\n",
              "  <tbody>\n",
              "    <tr>\n",
              "      <th>8581</th>\n",
              "      <td>9472</td>\n",
              "      <td>Overwatch</td>\n",
              "      <td>Neutral</td>\n",
              "      <td>My goodness @ AmbarKOrtiz was SO mad at me for...</td>\n",
              "    </tr>\n",
              "    <tr>\n",
              "      <th>71534</th>\n",
              "      <td>11054</td>\n",
              "      <td>TomClancysGhostRecon</td>\n",
              "      <td>Positive</td>\n",
              "      <td>I must say that for every moment of fun I have...</td>\n",
              "    </tr>\n",
              "    <tr>\n",
              "      <th>67252</th>\n",
              "      <td>7116</td>\n",
              "      <td>johnson&amp;johnson</td>\n",
              "      <td>Neutral</td>\n",
              "      <td>Business AwesomeCapital : Johnson &amp; Meyer John...</td>\n",
              "    </tr>\n",
              "    <tr>\n",
              "      <th>41061</th>\n",
              "      <td>1446</td>\n",
              "      <td>Battlefield</td>\n",
              "      <td>Positive</td>\n",
              "      <td>Here it was! I found the Perfect Flamethrower ...</td>\n",
              "    </tr>\n",
              "    <tr>\n",
              "      <th>16591</th>\n",
              "      <td>9643</td>\n",
              "      <td>PlayStation5(PS5)</td>\n",
              "      <td>Positive</td>\n",
              "      <td>It is not the first time that the EU Commissio...</td>\n",
              "    </tr>\n",
              "    <tr>\n",
              "      <th>...</th>\n",
              "      <td>...</td>\n",
              "      <td>...</td>\n",
              "      <td>...</td>\n",
              "      <td>...</td>\n",
              "    </tr>\n",
              "    <tr>\n",
              "      <th>37194</th>\n",
              "      <td>8379</td>\n",
              "      <td>Microsoft</td>\n",
              "      <td>Neutral</td>\n",
              "      <td>Microsoft opens up coronavirus threat data to ...</td>\n",
              "    </tr>\n",
              "    <tr>\n",
              "      <th>6265</th>\n",
              "      <td>278</td>\n",
              "      <td>Amazon</td>\n",
              "      <td>Neutral</td>\n",
              "      <td>A fast-paced, riveting and unique read! Grab a...</td>\n",
              "    </tr>\n",
              "    <tr>\n",
              "      <th>54886</th>\n",
              "      <td>2225</td>\n",
              "      <td>CallOfDuty</td>\n",
              "      <td>Negative</td>\n",
              "      <td>Nah fr find this shit a big warzone if you bee...</td>\n",
              "    </tr>\n",
              "    <tr>\n",
              "      <th>860</th>\n",
              "      <td>2552</td>\n",
              "      <td>Borderlands</td>\n",
              "      <td>Negative</td>\n",
              "      <td>borderlands 3 sucks why are yall giving money ...</td>\n",
              "    </tr>\n",
              "    <tr>\n",
              "      <th>15795</th>\n",
              "      <td>3102</td>\n",
              "      <td>Dota2</td>\n",
              "      <td>Neutral</td>\n",
              "      <td>Trump just banned EU travel for a month. Is ma...</td>\n",
              "    </tr>\n",
              "  </tbody>\n",
              "</table>\n",
              "<p>59745 rows × 4 columns</p>\n",
              "</div>\n",
              "      <button class=\"colab-df-convert\" onclick=\"convertToInteractive('df-db83d3b5-29b8-49bd-83c5-1cb77eee2a56')\"\n",
              "              title=\"Convert this dataframe to an interactive table.\"\n",
              "              style=\"display:none;\">\n",
              "        \n",
              "  <svg xmlns=\"http://www.w3.org/2000/svg\" height=\"24px\"viewBox=\"0 0 24 24\"\n",
              "       width=\"24px\">\n",
              "    <path d=\"M0 0h24v24H0V0z\" fill=\"none\"/>\n",
              "    <path d=\"M18.56 5.44l.94 2.06.94-2.06 2.06-.94-2.06-.94-.94-2.06-.94 2.06-2.06.94zm-11 1L8.5 8.5l.94-2.06 2.06-.94-2.06-.94L8.5 2.5l-.94 2.06-2.06.94zm10 10l.94 2.06.94-2.06 2.06-.94-2.06-.94-.94-2.06-.94 2.06-2.06.94z\"/><path d=\"M17.41 7.96l-1.37-1.37c-.4-.4-.92-.59-1.43-.59-.52 0-1.04.2-1.43.59L10.3 9.45l-7.72 7.72c-.78.78-.78 2.05 0 2.83L4 21.41c.39.39.9.59 1.41.59.51 0 1.02-.2 1.41-.59l7.78-7.78 2.81-2.81c.8-.78.8-2.07 0-2.86zM5.41 20L4 18.59l7.72-7.72 1.47 1.35L5.41 20z\"/>\n",
              "  </svg>\n",
              "      </button>\n",
              "      \n",
              "  <style>\n",
              "    .colab-df-container {\n",
              "      display:flex;\n",
              "      flex-wrap:wrap;\n",
              "      gap: 12px;\n",
              "    }\n",
              "\n",
              "    .colab-df-convert {\n",
              "      background-color: #E8F0FE;\n",
              "      border: none;\n",
              "      border-radius: 50%;\n",
              "      cursor: pointer;\n",
              "      display: none;\n",
              "      fill: #1967D2;\n",
              "      height: 32px;\n",
              "      padding: 0 0 0 0;\n",
              "      width: 32px;\n",
              "    }\n",
              "\n",
              "    .colab-df-convert:hover {\n",
              "      background-color: #E2EBFA;\n",
              "      box-shadow: 0px 1px 2px rgba(60, 64, 67, 0.3), 0px 1px 3px 1px rgba(60, 64, 67, 0.15);\n",
              "      fill: #174EA6;\n",
              "    }\n",
              "\n",
              "    [theme=dark] .colab-df-convert {\n",
              "      background-color: #3B4455;\n",
              "      fill: #D2E3FC;\n",
              "    }\n",
              "\n",
              "    [theme=dark] .colab-df-convert:hover {\n",
              "      background-color: #434B5C;\n",
              "      box-shadow: 0px 1px 3px 1px rgba(0, 0, 0, 0.15);\n",
              "      filter: drop-shadow(0px 1px 2px rgba(0, 0, 0, 0.3));\n",
              "      fill: #FFFFFF;\n",
              "    }\n",
              "  </style>\n",
              "\n",
              "      <script>\n",
              "        const buttonEl =\n",
              "          document.querySelector('#df-db83d3b5-29b8-49bd-83c5-1cb77eee2a56 button.colab-df-convert');\n",
              "        buttonEl.style.display =\n",
              "          google.colab.kernel.accessAllowed ? 'block' : 'none';\n",
              "\n",
              "        async function convertToInteractive(key) {\n",
              "          const element = document.querySelector('#df-db83d3b5-29b8-49bd-83c5-1cb77eee2a56');\n",
              "          const dataTable =\n",
              "            await google.colab.kernel.invokeFunction('convertToInteractive',\n",
              "                                                     [key], {});\n",
              "          if (!dataTable) return;\n",
              "\n",
              "          const docLinkHtml = 'Like what you see? Visit the ' +\n",
              "            '<a target=\"_blank\" href=https://colab.research.google.com/notebooks/data_table.ipynb>data table notebook</a>'\n",
              "            + ' to learn more about interactive tables.';\n",
              "          element.innerHTML = '';\n",
              "          dataTable['output_type'] = 'display_data';\n",
              "          await google.colab.output.renderOutput(dataTable, element);\n",
              "          const docLink = document.createElement('div');\n",
              "          docLink.innerHTML = docLinkHtml;\n",
              "          element.appendChild(docLink);\n",
              "        }\n",
              "      </script>\n",
              "    </div>\n",
              "  </div>\n",
              "  "
            ]
          },
          "metadata": {},
          "execution_count": 8
        }
      ],
      "source": [
        "twt_train = pd.read_csv('twitter_training.csv', header=None)\n",
        "twt_train.columns = [\"TweetID\", \"Topic\", \"Sentiment\", \"Message\"]\n",
        "twt_train[\"Message\"] = twt_train[\"Message\"].astype(str)\n",
        "#twt_train = twt_train.drop_duplicates(subset=['TweetID'], keep='first')\n",
        "twt_train, twt_valid = train_test_split(twt_train, test_size = 0.20, random_state=rseed)\n",
        "\n",
        "twt_test = pd.read_csv('twitter_validation.csv', header=None)\n",
        "twt_test.columns = [\"TweetID\", \"Topic\", \"Sentiment\", \"Message\"]\n",
        "twt_test[\"Message\"] = twt_test[\"Message\"].astype(str)\n",
        "\n",
        "twt_train"
      ]
    },
    {
      "cell_type": "code",
      "execution_count": null,
      "id": "88890310-56fb-46d3-83ee-6bebbebc3e97",
      "metadata": {
        "id": "88890310-56fb-46d3-83ee-6bebbebc3e97",
        "outputId": "165b1568-7884-4987-ad1d-a61580656935",
        "colab": {
          "base_uri": "https://localhost:8080/"
        }
      },
      "outputs": [
        {
          "output_type": "stream",
          "name": "stdout",
          "text": [
            "49347\n",
            "12345\n",
            "828\n"
          ]
        },
        {
          "output_type": "stream",
          "name": "stderr",
          "text": [
            "<ipython-input-9-f53f5330a6bd>:9: SettingWithCopyWarning: \n",
            "A value is trying to be set on a copy of a slice from a DataFrame.\n",
            "Try using .loc[row_indexer,col_indexer] = value instead\n",
            "\n",
            "See the caveats in the documentation: https://pandas.pydata.org/pandas-docs/stable/user_guide/indexing.html#returning-a-view-versus-a-copy\n",
            "  twt_train.Sentiment = twt_train.Sentiment.map(replace_map)\n"
          ]
        },
        {
          "output_type": "execute_result",
          "data": {
            "text/plain": [
              "0    18023\n",
              "1    16602\n",
              "2    14722\n",
              "Name: Sentiment, dtype: int64"
            ]
          },
          "metadata": {},
          "execution_count": 9
        }
      ],
      "source": [
        "twt_train = twt_train[twt_train[\"Sentiment\"] != \"Irrelevant\"]\n",
        "twt_valid = twt_valid[twt_valid[\"Sentiment\"] != \"Irrelevant\"]\n",
        "twt_test = twt_test[twt_test[\"Sentiment\"] != \"Irrelevant\"]\n",
        "\n",
        "replace_map = {'Negative' : 0,\n",
        "               'Positive' : 1,\n",
        "               'Neutral' : 2}\n",
        "\n",
        "twt_train.Sentiment = twt_train.Sentiment.map(replace_map)\n",
        "twt_valid.Sentiment = twt_valid.Sentiment.map(replace_map)\n",
        "twt_test.Sentiment = twt_test.Sentiment.map(replace_map)\n",
        "\n",
        "print(len(twt_train))\n",
        "print(len(twt_valid))\n",
        "print(len(twt_test))\n",
        "twt_train.Sentiment.value_counts()"
      ]
    },
    {
      "cell_type": "code",
      "execution_count": null,
      "id": "cd7a79fd-b024-4cdc-a515-57d167dc28fc",
      "metadata": {
        "id": "cd7a79fd-b024-4cdc-a515-57d167dc28fc"
      },
      "outputs": [],
      "source": [
        "X_train = twt_train['Message']\n",
        "y_train = twt_train['Sentiment']\n",
        "X_valid = twt_valid['Message']\n",
        "y_valid = twt_valid['Sentiment']\n",
        "X_test = twt_test['Message']\n",
        "y_test = twt_test['Sentiment']\n",
        "\n",
        "X_trainB = twt_train['Message']\n",
        "y_trainB = twt_train['Sentiment']\n",
        "X_validB = twt_valid['Message']\n",
        "y_validB = twt_valid['Sentiment']\n",
        "X_testB = twt_test['Message']\n",
        "y_testB = twt_test['Sentiment']"
      ]
    },
    {
      "cell_type": "code",
      "execution_count": null,
      "id": "1b6a6b6c-f6fb-4ed4-9d80-56ee666cace6",
      "metadata": {
        "id": "1b6a6b6c-f6fb-4ed4-9d80-56ee666cace6",
        "outputId": "b2ac5566-a81d-4e7b-f441-5abfd73945c8",
        "colab": {
          "base_uri": "https://localhost:8080/"
        }
      },
      "outputs": [
        {
          "output_type": "execute_result",
          "data": {
            "text/plain": [
              "8581     my goodness   ambarkortiz was so mad at me for...\n",
              "71534    i must say that for every moment of fun i have...\n",
              "67252    business awesomecapital   johnson   meyer john...\n",
              "41061    here it was  i found the perfect flamethrower ...\n",
              "16591    it is not the first time that the eu commissio...\n",
              "                               ...                        \n",
              "37194    microsoft opens up coronavirus threat data to ...\n",
              "6265     a fast paced  riveting and unique read  grab a...\n",
              "54886    nah fr find this shit a big warzone if you bee...\n",
              "860      borderlands   sucks why are yall giving money ...\n",
              "15795    trump just banned eu travel for a month  is ma...\n",
              "Name: Message, Length: 49347, dtype: object"
            ]
          },
          "metadata": {},
          "execution_count": 11
        }
      ],
      "source": [
        "def clean_text(text):\n",
        "    text = re.sub('[^a-zA-Z]', ' ', text)\n",
        "    text = text.lower()\n",
        "    return text\n",
        "\n",
        "X_train = X_train.apply(clean_text)\n",
        "X_valid = X_valid.apply(clean_text)\n",
        "X_test = X_test.apply(clean_text)\n",
        "\n",
        "X_train"
      ]
    },
    {
      "cell_type": "code",
      "execution_count": null,
      "id": "72ff6c14-1108-4eb2-b779-00d27b9e7030",
      "metadata": {
        "id": "72ff6c14-1108-4eb2-b779-00d27b9e7030",
        "outputId": "7c8f1f14-834c-4b08-b35a-eec90520ac86",
        "colab": {
          "base_uri": "https://localhost:8080/"
        }
      },
      "outputs": [
        {
          "output_type": "stream",
          "name": "stderr",
          "text": [
            "[nltk_data] Downloading package stopwords to /root/nltk_data...\n",
            "[nltk_data]   Unzipping corpora/stopwords.zip.\n",
            "[nltk_data] Downloading package wordnet to /root/nltk_data...\n",
            "[nltk_data] Downloading package omw-1.4 to /root/nltk_data...\n"
          ]
        },
        {
          "output_type": "execute_result",
          "data": {
            "text/plain": [
              "True"
            ]
          },
          "metadata": {},
          "execution_count": 12
        }
      ],
      "source": [
        "nltk.download('stopwords')\n",
        "nltk.download('wordnet')\n",
        "nltk.download('omw-1.4')"
      ]
    },
    {
      "cell_type": "code",
      "execution_count": null,
      "id": "73bf4790-b547-4de3-b73e-1559c0f1ebb4",
      "metadata": {
        "id": "73bf4790-b547-4de3-b73e-1559c0f1ebb4",
        "outputId": "f7a6f857-c726-4242-a651-d43cea54babe",
        "colab": {
          "base_uri": "https://localhost:8080/"
        }
      },
      "outputs": [
        {
          "output_type": "execute_result",
          "data": {
            "text/plain": [
              "8581     goodness ambarkortiz mad turning bag bastion l...\n",
              "71534    must say every moment fun breakpoint serves le...\n",
              "67252    business awesomecapital johnson meyer johnson ...\n",
              "41061    found perfect flamethrower image scocontent sc...\n",
              "16591                  first time eu commission taken step\n",
              "                               ...                        \n",
              "37194    microsoft opens coronavirus threat data public...\n",
              "6265     fast paced riveting unique read grab copy murd...\n",
              "54886    nah fr find shit big warzone beefing dont come...\n",
              "860      borderlands sucks yall giving money random pit...\n",
              "15795    trump banned eu travel month major still possi...\n",
              "Name: Message, Length: 49347, dtype: object"
            ]
          },
          "metadata": {},
          "execution_count": 13
        }
      ],
      "source": [
        "def remove_stop_words(text):\n",
        "    results = []\n",
        "    stop_words = stopwords.words('english')\n",
        "    text = text.split()\n",
        "    text = [results.append(word) for word in text if word not in stop_words]\n",
        "    text = ' '.join(results)\n",
        "    return text\n",
        "\n",
        "X_train = X_train.apply(remove_stop_words)\n",
        "X_valid = X_valid.apply(remove_stop_words)\n",
        "X_test = X_test.apply(remove_stop_words)\n",
        "\n",
        "X_train"
      ]
    },
    {
      "cell_type": "code",
      "execution_count": null,
      "id": "39ddf121-16bb-442f-8b93-590480df33e6",
      "metadata": {
        "id": "39ddf121-16bb-442f-8b93-590480df33e6",
        "outputId": "4939ab14-7135-4229-878b-eb4f10c52e13",
        "colab": {
          "base_uri": "https://localhost:8080/"
        }
      },
      "outputs": [
        {
          "output_type": "execute_result",
          "data": {
            "text/plain": [
              "8581     goodness ambarkortiz mad turning bag bastion l...\n",
              "71534    must say every moment fun breakpoint serf leas...\n",
              "67252    business awesomecapital johnson meyer johnson ...\n",
              "41061    found perfect flamethrower image scocontent sc...\n",
              "16591                  first time eu commission taken step\n",
              "                               ...                        \n",
              "37194    microsoft open coronavirus threat data public ...\n",
              "6265     fast paced riveting unique read grab copy murd...\n",
              "54886    nah fr find shit big warzone beefing dont come...\n",
              "860      borderland suck yall giving money random pitch...\n",
              "15795    trump banned eu travel month major still possi...\n",
              "Name: Message, Length: 49347, dtype: object"
            ]
          },
          "metadata": {},
          "execution_count": 14
        }
      ],
      "source": [
        "def lemmatize(text):\n",
        "    text = text.split()\n",
        "    text = [WordNetLemmatizer().lemmatize(w) for w in text]\n",
        "    text = ' '.join(text)\n",
        "    return text\n",
        "\n",
        "X_train = X_train.apply(lemmatize)\n",
        "X_valid = X_valid.apply(lemmatize)\n",
        "X_test = X_test.apply(lemmatize)\n",
        "\n",
        "X_train"
      ]
    },
    {
      "cell_type": "code",
      "execution_count": null,
      "id": "8cae9cb4-64df-438e-867a-bd32098f516c",
      "metadata": {
        "id": "8cae9cb4-64df-438e-867a-bd32098f516c",
        "outputId": "779946c9-28ec-4616-d7e8-7f60aa5578bf",
        "colab": {
          "base_uri": "https://localhost:8080/"
        }
      },
      "outputs": [
        {
          "output_type": "stream",
          "name": "stdout",
          "text": [
            "130\n",
            "163\n",
            "47\n"
          ]
        }
      ],
      "source": [
        "vocab_size = 10000\n",
        "\n",
        "X_train = [keras.preprocessing.text.one_hot(d, vocab_size, split=' ') for d in X_train]\n",
        "X_valid = [keras.preprocessing.text.one_hot(d, vocab_size, split=' ') for d in X_valid]\n",
        "X_test = [keras.preprocessing.text.one_hot(d, vocab_size, split=' ') for d in X_test]\n",
        "\n",
        "X_train\n",
        "print(max(len(x) for x in X_train))\n",
        "print(max(len(x) for x in X_valid))\n",
        "print(max(len(x) for x in X_test))"
      ]
    },
    {
      "cell_type": "code",
      "execution_count": null,
      "id": "9556f152-c582-48c8-90be-5ce19bc5d9c9",
      "metadata": {
        "id": "9556f152-c582-48c8-90be-5ce19bc5d9c9",
        "outputId": "4faa24f1-7d73-434b-d2cb-9f31804c4c74",
        "colab": {
          "base_uri": "https://localhost:8080/"
        }
      },
      "outputs": [
        {
          "output_type": "execute_result",
          "data": {
            "text/plain": [
              "array([[1414, 4315, 8832, ...,    0,    0,    0],\n",
              "       [2313, 7839, 7689, ...,    0,    0,    0],\n",
              "       [2572, 2810, 4828, ...,    0,    0,    0],\n",
              "       ...,\n",
              "       [ 444, 8765, 6542, ...,    0,    0,    0],\n",
              "       [3531, 9739,  265, ...,    0,    0,    0],\n",
              "       [4361, 4823, 5092, ...,    0,    0,    0]], dtype=int32)"
            ]
          },
          "metadata": {},
          "execution_count": 16
        }
      ],
      "source": [
        "max_length = 163\n",
        "X_train = keras.preprocessing.sequence.pad_sequences(X_train, maxlen=max_length, padding='post')\n",
        "X_valid = keras.preprocessing.sequence.pad_sequences(X_valid, maxlen=max_length, padding='post')\n",
        "X_test = keras.preprocessing.sequence.pad_sequences(X_test, maxlen=max_length, padding='post')\n",
        "\n",
        "X_train"
      ]
    },
    {
      "cell_type": "code",
      "execution_count": null,
      "id": "5c029c04-0059-4fa0-9455-10171f6a9154",
      "metadata": {
        "id": "5c029c04-0059-4fa0-9455-10171f6a9154"
      },
      "outputs": [],
      "source": [
        "model = keras.models.Sequential([\n",
        "    #keras.layers.Hashing(num_bins=vocab_size, output_mode='one_hot'),\n",
        "    keras.layers.Embedding(vocab_size, 8, input_length=max_length),\n",
        "\n",
        "    keras.layers.Conv1D(128, 3),\n",
        "    keras.layers.MaxPooling1D(),\n",
        "    keras.layers.LeakyReLU(),\n",
        "    keras.layers.BatchNormalization(),\n",
        "\n",
        "    keras.layers.Conv1D(256, 3),\n",
        "    keras.layers.MaxPooling1D(),\n",
        "    keras.layers.LeakyReLU(),\n",
        "    keras.layers.BatchNormalization(),\n",
        "    keras.layers.Dropout(.5),\n",
        "\n",
        "    keras.layers.Conv1D(256, 3),\n",
        "    keras.layers.LeakyReLU(),\n",
        "    keras.layers.MaxPooling1D(),\n",
        "    keras.layers.BatchNormalization(),\n",
        "    keras.layers.Dropout(.5),\n",
        "\n",
        "    keras.layers.Conv1D(128, 3),\n",
        "    keras.layers.LeakyReLU(),\n",
        "    keras.layers.MaxPooling1D(),\n",
        "    keras.layers.BatchNormalization(),\n",
        "    keras.layers.Dropout(.5),\n",
        "\n",
        "    #keras.layers.Conv1D(64, 3),\n",
        "    #keras.layers.LeakyReLU(),\n",
        "    #keras.layers.MaxPooling1D(),\n",
        "    #keras.layers.BatchNormalization(),\n",
        "    #keras.layers.Dropout(.5),\n",
        "\n",
        "    #keras.layers.Flatten(),\n",
        "    #keras.layers.Dense(256),\n",
        "    #keras.layers.LeakyReLU(),\n",
        "    #keras.layers.Dropout(.5),\n",
        "\n",
        "    keras.layers.Flatten(),\n",
        "    keras.layers.Dense(128),\n",
        "    keras.layers.LeakyReLU(),\n",
        "    keras.layers.Dropout(.5),\n",
        "\n",
        "    #keras.layers.Flatten(),\n",
        "    keras.layers.Dense(64),\n",
        "    keras.layers.LeakyReLU(),\n",
        "    keras.layers.Dropout(.5),\n",
        "\n",
        "    keras.layers.Dense(32),\n",
        "    keras.layers.LeakyReLU(),\n",
        "    keras.layers.Dropout(.5),\n",
        "\n",
        "    keras.layers.Dense(3),\n",
        "    keras.layers.Softmax()\n",
        "])"
      ]
    },
    {
      "cell_type": "code",
      "execution_count": null,
      "id": "ec209ba0-cffc-4962-bb32-a62557e939cf",
      "metadata": {
        "id": "ec209ba0-cffc-4962-bb32-a62557e939cf"
      },
      "outputs": [],
      "source": [
        "model.compile(loss=\"sparse_categorical_crossentropy\",\n",
        "              optimizer=keras.optimizers.Adam(),\n",
        "              metrics=[\"accuracy\"])"
      ]
    },
    {
      "cell_type": "code",
      "execution_count": null,
      "id": "9d2585db-fa8c-40c0-a8ec-07387ce6dc9d",
      "metadata": {
        "id": "9d2585db-fa8c-40c0-a8ec-07387ce6dc9d",
        "outputId": "1694d417-59f2-4b30-8ac2-6c511c9809be",
        "colab": {
          "base_uri": "https://localhost:8080/"
        }
      },
      "outputs": [
        {
          "output_type": "stream",
          "name": "stdout",
          "text": [
            "Epoch 1/10\n",
            "1543/1543 [==============================] - 76s 37ms/step - loss: 1.1761 - accuracy: 0.3643 - val_loss: 1.1305 - val_accuracy: 0.4257\n",
            "Epoch 2/10\n",
            "1543/1543 [==============================] - 22s 14ms/step - loss: 0.9354 - accuracy: 0.5438 - val_loss: 0.8165 - val_accuracy: 0.5925\n",
            "Epoch 3/10\n",
            "1543/1543 [==============================] - 17s 11ms/step - loss: 0.7459 - accuracy: 0.6734 - val_loss: 0.6747 - val_accuracy: 0.7323\n",
            "Epoch 4/10\n",
            "1543/1543 [==============================] - 19s 12ms/step - loss: 0.5500 - accuracy: 0.7900 - val_loss: 0.6356 - val_accuracy: 0.7801\n",
            "Epoch 5/10\n",
            "1543/1543 [==============================] - 17s 11ms/step - loss: 0.4300 - accuracy: 0.8405 - val_loss: 0.5462 - val_accuracy: 0.8130\n",
            "Epoch 6/10\n",
            "1543/1543 [==============================] - 16s 11ms/step - loss: 0.3600 - accuracy: 0.8677 - val_loss: 0.5980 - val_accuracy: 0.8136\n",
            "Epoch 7/10\n",
            "1543/1543 [==============================] - 17s 11ms/step - loss: 0.3121 - accuracy: 0.8862 - val_loss: 0.5264 - val_accuracy: 0.8233\n",
            "Epoch 8/10\n",
            "1543/1543 [==============================] - 16s 11ms/step - loss: 0.2818 - accuracy: 0.8963 - val_loss: 0.6408 - val_accuracy: 0.7755\n",
            "Epoch 9/10\n",
            "1543/1543 [==============================] - 17s 11ms/step - loss: 0.2562 - accuracy: 0.9054 - val_loss: 0.6165 - val_accuracy: 0.7986\n",
            "Epoch 10/10\n",
            "1543/1543 [==============================] - 17s 11ms/step - loss: 0.2453 - accuracy: 0.9105 - val_loss: 0.4730 - val_accuracy: 0.8401\n"
          ]
        }
      ],
      "source": [
        "callback = tf.keras.callbacks.EarlyStopping(monitor='val_accuracy', patience=3)\n",
        "\n",
        "start = time.time()\n",
        "history = model.fit(X_train, y_train, epochs=10,\n",
        "                    validation_data=(X_valid, y_valid), callbacks = [callback])\n",
        "end = time.time()"
      ]
    },
    {
      "cell_type": "code",
      "source": [
        "duration = end-start\n",
        "print(duration)"
      ],
      "metadata": {
        "colab": {
          "base_uri": "https://localhost:8080/"
        },
        "id": "8z0RigTvRTBs",
        "outputId": "aa95d7b3-9da4-49e6-e0ca-8f0631ec554c"
      },
      "id": "8z0RigTvRTBs",
      "execution_count": null,
      "outputs": [
        {
          "output_type": "stream",
          "name": "stdout",
          "text": [
            "235.66637444496155\n"
          ]
        }
      ]
    },
    {
      "cell_type": "code",
      "source": [
        "plt.plot(history.history['accuracy'])\n",
        "plt.plot(history.history['val_accuracy'])\n",
        "plt.title('Model Prediction Accuracy')\n",
        "plt.ylabel('Accuracy')\n",
        "plt.xlabel('Epoch')\n",
        "plt.legend(['Training Set', 'Validation Set'], loc='upper left')\n",
        "plt.show()"
      ],
      "metadata": {
        "colab": {
          "base_uri": "https://localhost:8080/",
          "height": 472
        },
        "id": "KyYjjLCWQWrD",
        "outputId": "6f18ce8c-470a-43e4-b85d-a0a5be497606"
      },
      "id": "KyYjjLCWQWrD",
      "execution_count": null,
      "outputs": [
        {
          "output_type": "display_data",
          "data": {
            "text/plain": [
              "<Figure size 640x480 with 1 Axes>"
            ],
            "image/png": "[encoded data removed]"
          },
          "metadata": {}
        }
      ]
    },
    {
      "cell_type": "code",
      "source": [
        "plt.plot(history.history['loss'])\n",
        "plt.plot(history.history['val_loss'])\n",
        "plt.title('Model Loss')\n",
        "plt.ylabel('Loss')\n",
        "plt.xlabel('Epoch')\n",
        "plt.legend(['Training Set', 'Validation Set'], loc='upper left')\n",
        "plt.show()"
      ],
      "metadata": {
        "colab": {
          "base_uri": "https://localhost:8080/",
          "height": 472
        },
        "id": "vcT2TTUYQnpF",
        "outputId": "154d017f-7087-4a0f-cecc-7d991e62ddc8"
      },
      "id": "vcT2TTUYQnpF",
      "execution_count": null,
      "outputs": [
        {
          "output_type": "display_data",
          "data": {
            "text/plain": [
              "<Figure size 640x480 with 1 Axes>"
            ],
            "image/png": "[encoded data removed]"
          },
          "metadata": {}
        }
      ]
    },
    {
      "cell_type": "code",
      "execution_count": null,
      "id": "d774ed61-24ef-425a-9b87-d5c2d4d20578",
      "metadata": {
        "id": "d774ed61-24ef-425a-9b87-d5c2d4d20578",
        "colab": {
          "base_uri": "https://localhost:8080/"
        },
        "outputId": "84c7ce0b-28cd-4dbe-f165-f57df803a181"
      },
      "outputs": [
        {
          "output_type": "stream",
          "name": "stdout",
          "text": [
            "26/26 [==============================] - 0s 7ms/step\n"
          ]
        }
      ],
      "source": [
        "pred = np.argmax(model.predict(X_test),axis=1)"
      ]
    },
    {
      "cell_type": "code",
      "execution_count": null,
      "id": "a47748de-b404-42f8-9964-22a17789e3c3",
      "metadata": {
        "id": "a47748de-b404-42f8-9964-22a17789e3c3",
        "colab": {
          "base_uri": "https://localhost:8080/"
        },
        "outputId": "30326d82-d797-4de8-e2c2-dc26cf739497"
      },
      "outputs": [
        {
          "output_type": "execute_result",
          "data": {
            "text/plain": [
              "1      2\n",
              "2      0\n",
              "3      0\n",
              "4      2\n",
              "5      0\n",
              "      ..\n",
              "993    0\n",
              "994    1\n",
              "997    1\n",
              "998    1\n",
              "999    2\n",
              "Name: Sentiment, Length: 828, dtype: int64"
            ]
          },
          "metadata": {},
          "execution_count": 24
        }
      ],
      "source": [
        "y_test"
      ]
    },
    {
      "cell_type": "code",
      "source": [
        "res = [1 if i==j else 0 for i, j in zip(pred,y_test)]\n",
        "sum(res)/len(res)"
      ],
      "metadata": {
        "id": "ot-X3f0AUlFr",
        "colab": {
          "base_uri": "https://localhost:8080/"
        },
        "outputId": "9515302d-1c47-489a-b114-6acca89e3a64"
      },
      "id": "ot-X3f0AUlFr",
      "execution_count": null,
      "outputs": [
        {
          "output_type": "execute_result",
          "data": {
            "text/plain": [
              "0.9094202898550725"
            ]
          },
          "metadata": {},
          "execution_count": 25
        }
      ]
    },
    {
      "cell_type": "code",
      "source": [
        "bert = keras_nlp.models.BertClassifier.from_preset(\n",
        "    \"bert_tiny_en_uncased\",\n",
        "    num_classes=3,\n",
        ")\n",
        "\n",
        "callbackB = tf.keras.callbacks.EarlyStopping(monitor='val_sparse_categorical_accuracy', patience=3)"
      ],
      "metadata": {
        "id": "JmO4-lTvTani",
        "colab": {
          "base_uri": "https://localhost:8080/"
        },
        "outputId": "16e81924-5337-42ce-9680-f7a8cdef8c11"
      },
      "id": "JmO4-lTvTani",
      "execution_count": null,
      "outputs": [
        {
          "output_type": "stream",
          "name": "stdout",
          "text": [
            "Downloading data from https://storage.googleapis.com/keras-nlp/models/bert_tiny_en_uncased/v1/vocab.txt\n",
            "231508/231508 [==============================] - 0s 0us/step\n",
            "Downloading data from https://storage.googleapis.com/keras-nlp/models/bert_tiny_en_uncased/v1/model.h5\n",
            "17602216/17602216 [==============================] - 0s 0us/step\n"
          ]
        }
      ]
    },
    {
      "cell_type": "code",
      "source": [
        "start = time.time()\n",
        "historyB = bert.fit(\n",
        "    x=X_trainB,\n",
        "    y=y_trainB,\n",
        "    validation_data=(X_validB, y_validB),\n",
        "    epochs=10,\n",
        "    callbacks = [callbackB]\n",
        ")\n",
        "end = time.time()"
      ],
      "metadata": {
        "id": "HOgoMqM8TeCc",
        "colab": {
          "base_uri": "https://localhost:8080/"
        },
        "outputId": "91ceb400-2bcf-4f07-cb82-77b021fea259"
      },
      "id": "HOgoMqM8TeCc",
      "execution_count": null,
      "outputs": [
        {
          "output_type": "stream",
          "name": "stdout",
          "text": [
            "Epoch 1/10\n",
            "1543/1543 [==============================] - 564s 355ms/step - loss: 0.8301 - sparse_categorical_accuracy: 0.6344 - val_loss: 0.6887 - val_sparse_categorical_accuracy: 0.7155\n",
            "Epoch 2/10\n",
            "1543/1543 [==============================] - 532s 345ms/step - loss: 0.6088 - sparse_categorical_accuracy: 0.7541 - val_loss: 0.5397 - val_sparse_categorical_accuracy: 0.7864\n",
            "Epoch 3/10\n",
            "1543/1543 [==============================] - 581s 377ms/step - loss: 0.4607 - sparse_categorical_accuracy: 0.8213 - val_loss: 0.4286 - val_sparse_categorical_accuracy: 0.8356\n",
            "Epoch 4/10\n",
            "1543/1543 [==============================] - 587s 380ms/step - loss: 0.3588 - sparse_categorical_accuracy: 0.8621 - val_loss: 0.3771 - val_sparse_categorical_accuracy: 0.8565\n",
            "Epoch 5/10\n",
            "1543/1543 [==============================] - 587s 380ms/step - loss: 0.2990 - sparse_categorical_accuracy: 0.8834 - val_loss: 0.3329 - val_sparse_categorical_accuracy: 0.8768\n",
            "Epoch 6/10\n",
            "1543/1543 [==============================] - 582s 377ms/step - loss: 0.2512 - sparse_categorical_accuracy: 0.9021 - val_loss: 0.3074 - val_sparse_categorical_accuracy: 0.8879\n",
            "Epoch 7/10\n",
            "1543/1543 [==============================] - 592s 383ms/step - loss: 0.2212 - sparse_categorical_accuracy: 0.9135 - val_loss: 0.2948 - val_sparse_categorical_accuracy: 0.8944\n",
            "Epoch 8/10\n",
            "1543/1543 [==============================] - 534s 346ms/step - loss: 0.1950 - sparse_categorical_accuracy: 0.9222 - val_loss: 0.2928 - val_sparse_categorical_accuracy: 0.8971\n",
            "Epoch 9/10\n",
            "1543/1543 [==============================] - 575s 373ms/step - loss: 0.1730 - sparse_categorical_accuracy: 0.9300 - val_loss: 0.2817 - val_sparse_categorical_accuracy: 0.9030\n",
            "Epoch 10/10\n",
            "1543/1543 [==============================] - 593s 384ms/step - loss: 0.1558 - sparse_categorical_accuracy: 0.9371 - val_loss: 0.2766 - val_sparse_categorical_accuracy: 0.9053\n"
          ]
        }
      ]
    },
    {
      "cell_type": "code",
      "source": [
        "durationB = end-start\n",
        "print(durationB)"
      ],
      "metadata": {
        "colab": {
          "base_uri": "https://localhost:8080/"
        },
        "id": "oabfCgMdSM9s",
        "outputId": "e1dc94f7-4849-4366-8115-11e4d34d8822"
      },
      "execution_count": null,
      "outputs": [
        {
          "output_type": "stream",
          "name": "stdout",
          "text": [
            "5763.548139095306\n"
          ]
        }
      ],
      "id": "oabfCgMdSM9s"
    },
    {
      "cell_type": "code",
      "source": [
        "plt.plot(historyB.history['sparse_categorical_accuracy'])\n",
        "plt.plot(historyB.history['val_sparse_categorical_accuracy'])\n",
        "plt.title('Model Prediction Accuracy')\n",
        "plt.ylabel('Accuracy')\n",
        "plt.xlabel('Epoch')\n",
        "plt.legend(['Training Set', 'Validation Set'], loc='upper left')\n",
        "plt.show()"
      ],
      "metadata": {
        "colab": {
          "base_uri": "https://localhost:8080/",
          "height": 472
        },
        "id": "PXyhd5iGSWmz",
        "outputId": "971f0f18-4683-4f5e-da18-8a9bfd15b0b3"
      },
      "execution_count": null,
      "outputs": [
        {
          "output_type": "display_data",
          "data": {
            "text/plain": [
              "<Figure size 640x480 with 1 Axes>"
            ],
            "image/png": "[encoded data removed]"
          },
          "metadata": {}
        }
      ],
      "id": "PXyhd5iGSWmz"
    },
    {
      "cell_type": "code",
      "source": [
        "plt.plot(historyB.history['loss'])\n",
        "plt.plot(historyB.history['val_loss'])\n",
        "plt.title('Model Loss')\n",
        "plt.ylabel('Loss')\n",
        "plt.xlabel('Epoch')\n",
        "plt.legend(['Training Set', 'Validation Set'], loc='upper left')\n",
        "plt.show()"
      ],
      "metadata": {
        "colab": {
          "base_uri": "https://localhost:8080/",
          "height": 472
        },
        "id": "utXJXGrbSYYb",
        "outputId": "620dce4f-d4ef-468c-f3e4-422a9784dad0"
      },
      "execution_count": null,
      "outputs": [
        {
          "output_type": "display_data",
          "data": {
            "text/plain": [
              "<Figure size 640x480 with 1 Axes>"
            ],
            "image/png": "[encoded data removed]"
          },
          "metadata": {}
        }
      ],
      "id": "utXJXGrbSYYb"
    },
    {
      "cell_type": "code",
      "source": [
        "pred2 = np.argmax(bert.predict(X_testB),axis=1)"
      ],
      "metadata": {
        "colab": {
          "base_uri": "https://localhost:8080/"
        },
        "id": "nwPbK2Dp3K10",
        "outputId": "6a65d0d5-7c08-4456-d231-3b82d09d92a4"
      },
      "id": "nwPbK2Dp3K10",
      "execution_count": null,
      "outputs": [
        {
          "output_type": "stream",
          "name": "stdout",
          "text": [
            "26/26 [==============================] - 5s 100ms/step\n"
          ]
        }
      ]
    },
    {
      "cell_type": "code",
      "source": [
        "res2 = [1 if i==j else 0 for i, j in zip(pred2,y_testB)]\n",
        "sum(res2)/len(res2)"
      ],
      "metadata": {
        "colab": {
          "base_uri": "https://localhost:8080/"
        },
        "id": "7tTjH_Qr4oMS",
        "outputId": "ce55f5f4-0f42-4305-fbf3-7b9340f065a9"
      },
      "id": "7tTjH_Qr4oMS",
      "execution_count": null,
      "outputs": [
        {
          "output_type": "execute_result",
          "data": {
            "text/plain": [
              "0.9541062801932367"
            ]
          },
          "metadata": {},
          "execution_count": 27
        }
      ]
    },
    {
      "cell_type": "code",
      "source": [],
      "metadata": {
        "id": "6fi4v6W57Af1"
      },
      "id": "6fi4v6W57Af1",
      "execution_count": null,
      "outputs": []
    }
  ],
  "metadata": {
    "kernelspec": {
      "display_name": "Python 3 (ipykernel)",
      "language": "python",
      "name": "python3"
    },
    "language_info": {
      "codemirror_mode": {
        "name": "ipython",
        "version": 3
      },
      "file_extension": ".py",
      "mimetype": "text/x-python",
      "name": "python",
      "nbconvert_exporter": "python",
      "pygments_lexer": "ipython3",
      "version": "3.9.13"
    },
    "colab": {
      "provenance": [],
      "gpuType": "T4"
    },
    "accelerator": "GPU",
    "gpuClass": "standard"
  },
  "nbformat": 4,
  "nbformat_minor": 5
}